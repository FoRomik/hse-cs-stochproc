{
 "cells": [
  {
   "cell_type": "code",
   "execution_count": 1,
   "metadata": {
    "collapsed": false
   },
   "outputs": [
    {
     "name": "stdout",
     "output_type": "stream",
     "text": [
      "Populating the interactive namespace from numpy and matplotlib\n"
     ]
    }
   ],
   "source": [
    "%pylab inline"
   ]
  },
  {
   "cell_type": "code",
   "execution_count": 9,
   "metadata": {
    "collapsed": true
   },
   "outputs": [],
   "source": [
    "replications = 1000    # число повторений Монте-Карло\n",
    "sample_lengths = np.arange(10, 1000, 10)    # объем выборок, для которого будем вычислять \n",
    "                                            # ошибки 1 и 2 рода"
   ]
  },
  {
   "cell_type": "markdown",
   "metadata": {},
   "source": [
    "### Процедура, вычисляющая значение статистики и решение в критерии Неймана-Пирсона"
   ]
  },
  {
   "cell_type": "code",
   "execution_count": 3,
   "metadata": {
    "collapsed": true
   },
   "outputs": [],
   "source": [
    "def neyman_pearson_compute(sample):\n",
    "    r = 0.1               # хардкодим проверяемую гипотезу\n",
    "    sigma = 1.0           # хардкодим проверяемую гипотезу\n",
    "    n = len(sample)\n",
    "    X_n = np.sum(sample)\n",
    "    return r / sigma**2 * (X_n - r / 2.0 * n)\n",
    "\n",
    "def neyman_pearson_decide(criterion_value):\n",
    "    r = 0.1              # хардкодим проверяемую гипотезу\n",
    "    return int(criterion_value > r / 2.0)# для проверки гипотезы о среднем значении\n",
    "                                         # нормального распределения такой порог h\n",
    "                                         # дает равные вероятности ошибки 1 и 2 рода"
   ]
  },
  {
   "cell_type": "markdown",
   "metadata": {},
   "source": [
    "### Процедура, вычисляющая значение статистики и решение в последовательном критерии "
   ]
  },
  {
   "cell_type": "code",
   "execution_count": 4,
   "metadata": {
    "collapsed": true
   },
   "outputs": [],
   "source": [
    "def wald_sprt_compute(sample):\n",
    "    r = 0.1               # хардкодим проверяемую гипотезу\n",
    "    sigma = 1.0           # хардкодим проверяемую гипотезу\n",
    "    zetas = []\n",
    "    for x in sample:\n",
    "        zetas.append(r / sigma**2 * (x - r / 2.0))\n",
    "    return np.cumsum(zetas)\n",
    "\n",
    "def wald_sprt_decide(criterion_values, thresholds):\n",
    "    A, B = thresholds\n",
    "    for value_time, value in enumerate(criterion_values):\n",
    "        if value >= B:\n",
    "            return value_time, 1.0    # верна гипотеза H_1\n",
    "        elif value <= A:\n",
    "            return value_time, 0.0    # верна гипотеза H_0\n",
    "        else:\n",
    "            continue       # продолжать наблюдения\n",
    "    return value_time, 0.0      # по умолчанию не отклоняем гипотезу H_0"
   ]
  },
  {
   "cell_type": "markdown",
   "metadata": {},
   "source": [
    "Код вычисления статистик, относящихся к вероятностям 1 и 2 рода, для критерия Неймана-Пирсона, очень прост.\n",
    "\n",
    "Для заданного объема выборки вычисляем долю ошибок 1 и 2 рода, она и равна приближенно вероятности этих ошибок."
   ]
  },
  {
   "cell_type": "code",
   "execution_count": 11,
   "metadata": {
    "collapsed": false
   },
   "outputs": [],
   "source": [
    "neyman_pearson_alphas, neyman_pearson_betas = [], []\n",
    "for sample_len in sample_lengths:\n",
    "    neyman_pearson_p0_decisions = []\n",
    "    neyman_pearson_p1_decisions = []\n",
    "    for replication in xrange(replications):\n",
    "        # для вычисления ошибки 1 рода (ложная тревога)\n",
    "        # генерируем данные из гипотезы H_0 и вычисляем долю\n",
    "        # решений в пользу гипотезы H_1: alpha = P(H_1 | H_0)\n",
    "        \n",
    "        p0_sample = np.random.normal(size=sample_len)\n",
    "        neyman_pearson_value = neyman_pearson_compute(p0_sample)\n",
    "        neyman_pearson_decision = neyman_pearson_decide(neyman_pearson_value)\n",
    "        neyman_pearson_p0_decisions.append(neyman_pearson_decision)\n",
    "        \n",
    "        # для вычисления ошибки 2 рода (пропуск цели)\n",
    "        # генерируем данные из гипотезы H_1 и вычисляем долю\n",
    "        # решений в пользу гипотезы H_0: beta = P(H_0 | H_1)\n",
    "\n",
    "        p1_sample = np.random.normal(loc=0.1, size=sample_len)\n",
    "        neyman_pearson_value = neyman_pearson_compute(p1_sample)\n",
    "        neyman_pearson_decision = neyman_pearson_decide(neyman_pearson_value)\n",
    "        neyman_pearson_p1_decisions.append(neyman_pearson_decision)\n",
    "\n",
    "    neyman_pearson_alphas.append(np.mean(neyman_pearson_p0_decisions))\n",
    "    neyman_pearson_betas.append(1 - np.mean(neyman_pearson_p1_decisions))"
   ]
  },
  {
   "cell_type": "markdown",
   "metadata": {},
   "source": [
    "Код вычисления статистик, относящихся к вероятностям 1 и 2 рода, для последовательного критерия отличается тем, что мы не знаем, сколько наблюдений фактически потребовалось для принятия решения. Чтобы вычислить долю истинных"
   ]
  },
  {
   "cell_type": "code",
   "execution_count": 13,
   "metadata": {
    "collapsed": false
   },
   "outputs": [],
   "source": [
    "wald_sprt_alphas = np.arange(0.01, 0.45, 0.01)\n",
    "wald_sprt_betas = np.arange(0.01, 0.45, 0.01)\n",
    "lower_thresholds = np.log(wald_sprt_betas / (1 - wald_sprt_alphas))\n",
    "upper_thresholds = np.log((1 - wald_sprt_betas) / wald_sprt_alphas)\n",
    "\n",
    "wald_sprt_p0_mean_decision_times = []\n",
    "# wald_sprt_p1_decisions = defaultdict(list)\n",
    "\n",
    "for A, B in zip(lower_thresholds, upper_thresholds):\n",
    "    wald_sprt_p0_decisions = []\n",
    "    wald_sprt_p0_decision_times = []\n",
    "\n",
    "    for replication in xrange(replications):\n",
    "        # для вычисления ошибки 1 рода (ложная тревога)\n",
    "        # генерируем данные из гипотезы H_0 и вычисляем долю\n",
    "        # решений в пользу гипотезы H_1: alpha = P(H_1 | H_0)\n",
    "        p0_sample = np.random.normal(size=1000)\n",
    "        wald_sprt_values = wald_sprt_compute(p0_sample)\n",
    "        wald_sprt_decision_time, wald_sprt_decision = wald_sprt_decide(wald_sprt_values,\n",
    "                                                                       thresholds=(A, B))\n",
    "        wald_sprt_p0_decision_times.append(wald_sprt_decision_time)\n",
    "        wald_sprt_p0_decisions.append(wald_sprt_decision)\n",
    "\n",
    "    wald_sprt_p0_mean_decision_times.append(np.mean(wald_sprt_p0_decision_times))"
   ]
  },
  {
   "cell_type": "code",
   "execution_count": 14,
   "metadata": {
    "collapsed": false
   },
   "outputs": [
    {
     "data": {
      "text/plain": [
       "<matplotlib.text.Text at 0x103f049d0>"
      ]
     },
     "execution_count": 14,
     "metadata": {},
     "output_type": "execute_result"
    },
    {
     "data": {
      "image/png": "[encoded data removed]",
      "text/plain": [
       "<matplotlib.figure.Figure at 0x103f500d0>"
      ]
     },
     "metadata": {},
     "output_type": "display_data"
    }
   ],
   "source": [
    "plot(wald_sprt_p0_mean_decision_times, wald_sprt_alphas, label='SPRT')\n",
    "plot(sample_lengths, neyman_pearson_alphas, label='Neyman-Pearson')\n",
    "xlabel('Number of used observations')\n",
    "ylabel('Probability of type I error')"
   ]
  },
  {
   "cell_type": "code",
   "execution_count": null,
   "metadata": {
    "collapsed": false
   },
   "outputs": [],
   "source": [
    "plot(sample_lengths, neyman_pearson_alphas, label='Neyman-Pearson')\n",
    "xlabel('Number of used observations')\n",
    "ylabel('Probability of type I error')"
   ]
  },
  {
   "cell_type": "code",
   "execution_count": null,
   "metadata": {
    "collapsed": false
   },
   "outputs": [],
   "source": [
    "plot(sample_lengths, neyman_pearson_betas, label='Neyman-Pearson')\n",
    "xlabel('Number of used observations')\n",
    "ylabel('Probability of type II error')"
   ]
  }
 ],
 "metadata": {
  "kernelspec": {
   "display_name": "Python 2",
   "language": "python",
   "name": "python2"
  },
  "language_info": {
   "codemirror_mode": {
    "name": "ipython",
    "version": 2
   },
   "file_extension": ".py",
   "mimetype": "text/x-python",
   "name": "python",
   "nbconvert_exporter": "python",
   "pygments_lexer": "ipython2",
   "version": "2.7.12"
  }
 },
 "nbformat": 4,
 "nbformat_minor": 1
}
